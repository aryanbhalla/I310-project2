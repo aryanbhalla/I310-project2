{
 "cells": [
  {
   "cell_type": "code",
   "execution_count": 11,
   "metadata": {},
   "outputs": [
    {
     "name": "stdout",
     "output_type": "stream",
     "text": [
      "Requirement already up-to-date: google-api-python-client in c:\\users\\aryan\\onedrive\\jup\\lib\\site-packages (2.39.0)Note: you may need to restart the kernel to use updated packages.\n",
      "Requirement already up-to-date: google-auth-httplib2 in c:\\users\\aryan\\onedrive\\jup\\lib\\site-packages (0.1.0)\n",
      "Requirement already up-to-date: google-auth-oauthlib in c:\\users\\aryan\\onedrive\\jup\\lib\\site-packages (0.5.0)\n",
      "Requirement already satisfied, skipping upgrade: google-auth<3.0.0dev,>=1.16.0 in c:\\users\\aryan\\onedrive\\jup\\lib\\site-packages (from google-api-python-client) (2.6.0)\n",
      "Requirement already satisfied, skipping upgrade: httplib2<1dev,>=0.15.0 in c:\\users\\aryan\\onedrive\\jup\\lib\\site-packages (from google-api-python-client) (0.20.4)\n",
      "Requirement already satisfied, skipping upgrade: google-api-core<3.0.0dev,>=1.21.0 in c:\\users\\aryan\\onedrive\\jup\\lib\\site-packages (from google-api-python-client) (2.7.0)\n",
      "Requirement already satisfied, skipping upgrade: uritemplate<5,>=3.0.1 in c:\\users\\aryan\\onedrive\\jup\\lib\\site-packages (from google-api-python-client) (4.1.1)\n",
      "Requirement already satisfied, skipping upgrade: six in c:\\users\\aryan\\onedrive\\jup\\lib\\site-packages (from google-auth-httplib2) (1.15.0)\n",
      "Requirement already satisfied, skipping upgrade: requests-oauthlib>=0.7.0 in c:\\users\\aryan\\onedrive\\jup\\lib\\site-packages (from google-auth-oauthlib) (1.3.1)\n",
      "Requirement already satisfied, skipping upgrade: cachetools<6.0,>=2.0.0 in c:\\users\\aryan\\onedrive\\jup\\lib\\site-packages (from google-auth<3.0.0dev,>=1.16.0->google-api-python-client) (5.0.0)\n",
      "Requirement already satisfied, skipping upgrade: pyasn1-modules>=0.2.1 in c:\\users\\aryan\\onedrive\\jup\\lib\\site-packages (from google-auth<3.0.0dev,>=1.16.0->google-api-python-client) (0.2.8)\n",
      "Requirement already satisfied, skipping upgrade: rsa<5,>=3.1.4; python_version >= \"3.6\" in c:\\users\\aryan\\onedrive\\jup\\lib\\site-packages (from google-auth<3.0.0dev,>=1.16.0->google-api-python-client) (4.8)\n",
      "Requirement already satisfied, skipping upgrade: pyparsing!=3.0.0,!=3.0.1,!=3.0.2,!=3.0.3,<4,>=2.4.2; python_version > \"3.0\" in c:\\users\\aryan\\onedrive\\jup\\lib\\site-packages (from httplib2<1dev,>=0.15.0->google-api-python-client) (2.4.7)\n",
      "Requirement already satisfied, skipping upgrade: requests<3.0.0dev,>=2.18.0 in c:\\users\\aryan\\onedrive\\jup\\lib\\site-packages (from google-api-core<3.0.0dev,>=1.21.0->google-api-python-client) (2.24.0)\n",
      "Requirement already satisfied, skipping upgrade: protobuf>=3.12.0 in c:\\users\\aryan\\onedrive\\jup\\lib\\site-packages (from google-api-core<3.0.0dev,>=1.21.0->google-api-python-client) (3.19.4)\n",
      "Requirement already satisfied, skipping upgrade: googleapis-common-protos<2.0dev,>=1.52.0 in c:\\users\\aryan\\onedrive\\jup\\lib\\site-packages (from google-api-core<3.0.0dev,>=1.21.0->google-api-python-client) (1.55.0)\n",
      "Requirement already satisfied, skipping upgrade: oauthlib>=3.0.0 in c:\\users\\aryan\\onedrive\\jup\\lib\\site-packages (from requests-oauthlib>=0.7.0->google-auth-oauthlib) (3.2.0)\n",
      "Requirement already satisfied, skipping upgrade: pyasn1<0.5.0,>=0.4.6 in c:\\users\\aryan\\onedrive\\jup\\lib\\site-packages (from pyasn1-modules>=0.2.1->google-auth<3.0.0dev,>=1.16.0->google-api-python-client) (0.4.8)\n",
      "Requirement already satisfied, skipping upgrade: urllib3!=1.25.0,!=1.25.1,<1.26,>=1.21.1 in c:\\users\\aryan\\onedrive\\jup\\lib\\site-packages (from requests<3.0.0dev,>=2.18.0->google-api-core<3.0.0dev,>=1.21.0->google-api-python-client) (1.25.11)\n",
      "Requirement already satisfied, skipping upgrade: chardet<4,>=3.0.2 in c:\\users\\aryan\\onedrive\\jup\\lib\\site-packages (from requests<3.0.0dev,>=2.18.0->google-api-core<3.0.0dev,>=1.21.0->google-api-python-client) (3.0.4)\n",
      "Requirement already satisfied, skipping upgrade: certifi>=2017.4.17 in c:\\users\\aryan\\onedrive\\jup\\lib\\site-packages (from requests<3.0.0dev,>=2.18.0->google-api-core<3.0.0dev,>=1.21.0->google-api-python-client) (2020.6.20)\n",
      "Requirement already satisfied, skipping upgrade: idna<3,>=2.5 in c:\\users\\aryan\\onedrive\\jup\\lib\\site-packages (from requests<3.0.0dev,>=2.18.0->google-api-core<3.0.0dev,>=1.21.0->google-api-python-client) (2.10)\n",
      "\n"
     ]
    }
   ],
   "source": [
    "  pip install --upgrade google-api-python-client google-auth-httplib2 google-auth-oauthlib\n"
   ]
  },
  {
   "cell_type": "code",
   "execution_count": null,
   "metadata": {},
   "outputs": [],
   "source": [
    "imported google api client"
   ]
  },
  {
   "cell_type": "code",
   "execution_count": 5,
   "metadata": {},
   "outputs": [],
   "source": [
    "from googleapiclient.discovery import build\n",
    "import pandas as pd\n",
    "import json\n",
    "import time\n",
    "import nltk\n",
    "from collections import Counter\n",
    "from matplotlib import pyplot as plt\n",
    "import numpy as np\n",
    "from sklearn.linear_model import LinearRegression\n",
    "\n"
   ]
  },
  {
   "cell_type": "markdown",
   "metadata": {},
   "source": [
    "Imported all the necessary python handlers and the API"
   ]
  },
  {
   "cell_type": "code",
   "execution_count": 6,
   "metadata": {},
   "outputs": [],
   "source": [
    "df = pd.read_csv('C:/Users/aryan/Downloads/labeled_and_scored_comments.csv')"
   ]
  },
  {
   "cell_type": "markdown",
   "metadata": {},
   "source": [
    "Imported data frame as a csv file"
   ]
  },
  {
   "cell_type": "code",
   "execution_count": 7,
   "metadata": {
    "scrolled": true
   },
   "outputs": [
    {
     "data": {
      "text/html": [
       "<div>\n",
       "<style scoped>\n",
       "    .dataframe tbody tr th:only-of-type {\n",
       "        vertical-align: middle;\n",
       "    }\n",
       "\n",
       "    .dataframe tbody tr th {\n",
       "        vertical-align: top;\n",
       "    }\n",
       "\n",
       "    .dataframe thead th {\n",
       "        text-align: right;\n",
       "    }\n",
       "</style>\n",
       "<table border=\"1\" class=\"dataframe\">\n",
       "  <thead>\n",
       "    <tr style=\"text-align: right;\">\n",
       "      <th></th>\n",
       "      <th>id</th>\n",
       "      <th>comment_text</th>\n",
       "      <th>score</th>\n",
       "      <th>toxic</th>\n",
       "      <th>severe_toxic</th>\n",
       "      <th>obscene</th>\n",
       "      <th>threat</th>\n",
       "      <th>insult</th>\n",
       "      <th>identity_hate</th>\n",
       "    </tr>\n",
       "  </thead>\n",
       "  <tbody>\n",
       "    <tr>\n",
       "      <th>1158</th>\n",
       "      <td>61a85266de70cca0</td>\n",
       "      <td>Можешь говорить по русски.</td>\n",
       "      <td>0.000004</td>\n",
       "      <td>0</td>\n",
       "      <td>0</td>\n",
       "      <td>0</td>\n",
       "      <td>0</td>\n",
       "      <td>0</td>\n",
       "      <td>0</td>\n",
       "    </tr>\n",
       "    <tr>\n",
       "      <th>5246</th>\n",
       "      <td>030a9ba0b32b4456</td>\n",
       "      <td>Rodzina Krusenstern Potomkowie Admirała Adama ...</td>\n",
       "      <td>0.000009</td>\n",
       "      <td>0</td>\n",
       "      <td>0</td>\n",
       "      <td>0</td>\n",
       "      <td>0</td>\n",
       "      <td>0</td>\n",
       "      <td>0</td>\n",
       "    </tr>\n",
       "    <tr>\n",
       "      <th>11040</th>\n",
       "      <td>a6814193ac6b4705</td>\n",
       "      <td>The opening paragraph states that the game is ...</td>\n",
       "      <td>0.000091</td>\n",
       "      <td>0</td>\n",
       "      <td>0</td>\n",
       "      <td>0</td>\n",
       "      <td>0</td>\n",
       "      <td>0</td>\n",
       "      <td>0</td>\n",
       "    </tr>\n",
       "    <tr>\n",
       "      <th>24192</th>\n",
       "      <td>f0d6dee96e057a5b</td>\n",
       "      <td>The book is used as a source in a number of ar...</td>\n",
       "      <td>0.000116</td>\n",
       "      <td>0</td>\n",
       "      <td>0</td>\n",
       "      <td>0</td>\n",
       "      <td>0</td>\n",
       "      <td>0</td>\n",
       "      <td>0</td>\n",
       "    </tr>\n",
       "    <tr>\n",
       "      <th>2332</th>\n",
       "      <td>cbb9268d3c7429c1</td>\n",
       "      <td>Vals Vienés \\n |Rumba \\n |Cha Cha Chá(ciclo 7)</td>\n",
       "      <td>0.000131</td>\n",
       "      <td>0</td>\n",
       "      <td>0</td>\n",
       "      <td>0</td>\n",
       "      <td>0</td>\n",
       "      <td>0</td>\n",
       "      <td>0</td>\n",
       "    </tr>\n",
       "    <tr>\n",
       "      <th>...</th>\n",
       "      <td>...</td>\n",
       "      <td>...</td>\n",
       "      <td>...</td>\n",
       "      <td>...</td>\n",
       "      <td>...</td>\n",
       "      <td>...</td>\n",
       "      <td>...</td>\n",
       "      <td>...</td>\n",
       "      <td>...</td>\n",
       "    </tr>\n",
       "    <tr>\n",
       "      <th>19994</th>\n",
       "      <td>1429a2c930688317</td>\n",
       "      <td>you fucking piece of shit</td>\n",
       "      <td>0.997278</td>\n",
       "      <td>1</td>\n",
       "      <td>1</td>\n",
       "      <td>1</td>\n",
       "      <td>0</td>\n",
       "      <td>1</td>\n",
       "      <td>0</td>\n",
       "    </tr>\n",
       "    <tr>\n",
       "      <th>28728</th>\n",
       "      <td>d82e45eb103ad07b</td>\n",
       "      <td>fuck off you stupid aspy asshole</td>\n",
       "      <td>0.997736</td>\n",
       "      <td>1</td>\n",
       "      <td>1</td>\n",
       "      <td>1</td>\n",
       "      <td>0</td>\n",
       "      <td>1</td>\n",
       "      <td>0</td>\n",
       "    </tr>\n",
       "    <tr>\n",
       "      <th>25535</th>\n",
       "      <td>e9b92c6c6b01aeef</td>\n",
       "      <td>FUCK YOU YOU PIECE OF SHIT \\n FUCK YOU YOU PIE...</td>\n",
       "      <td>0.997982</td>\n",
       "      <td>1</td>\n",
       "      <td>1</td>\n",
       "      <td>1</td>\n",
       "      <td>0</td>\n",
       "      <td>1</td>\n",
       "      <td>0</td>\n",
       "    </tr>\n",
       "    <tr>\n",
       "      <th>25945</th>\n",
       "      <td>e783fd267f3a9d3b</td>\n",
       "      <td>FUCK WIKIPEDIA ON WHEELS! \\n\\nFuck off wikiped...</td>\n",
       "      <td>0.998136</td>\n",
       "      <td>1</td>\n",
       "      <td>1</td>\n",
       "      <td>1</td>\n",
       "      <td>0</td>\n",
       "      <td>1</td>\n",
       "      <td>0</td>\n",
       "    </tr>\n",
       "    <tr>\n",
       "      <th>17833</th>\n",
       "      <td>364b6c24210e2345</td>\n",
       "      <td>Fuck you you fucking pig!\\n\\nYou motherfucking...</td>\n",
       "      <td>0.998329</td>\n",
       "      <td>1</td>\n",
       "      <td>0</td>\n",
       "      <td>1</td>\n",
       "      <td>0</td>\n",
       "      <td>1</td>\n",
       "      <td>0</td>\n",
       "    </tr>\n",
       "  </tbody>\n",
       "</table>\n",
       "<p>41338 rows × 9 columns</p>\n",
       "</div>"
      ],
      "text/plain": [
       "                     id                                       comment_text  \\\n",
       "1158   61a85266de70cca0                         Можешь говорить по русски.   \n",
       "5246   030a9ba0b32b4456  Rodzina Krusenstern Potomkowie Admirała Adama ...   \n",
       "11040  a6814193ac6b4705  The opening paragraph states that the game is ...   \n",
       "24192  f0d6dee96e057a5b  The book is used as a source in a number of ar...   \n",
       "2332   cbb9268d3c7429c1     Vals Vienés \\n |Rumba \\n |Cha Cha Chá(ciclo 7)   \n",
       "...                 ...                                                ...   \n",
       "19994  1429a2c930688317                          you fucking piece of shit   \n",
       "28728  d82e45eb103ad07b                   fuck off you stupid aspy asshole   \n",
       "25535  e9b92c6c6b01aeef  FUCK YOU YOU PIECE OF SHIT \\n FUCK YOU YOU PIE...   \n",
       "25945  e783fd267f3a9d3b  FUCK WIKIPEDIA ON WHEELS! \\n\\nFuck off wikiped...   \n",
       "17833  364b6c24210e2345  Fuck you you fucking pig!\\n\\nYou motherfucking...   \n",
       "\n",
       "          score  toxic  severe_toxic  obscene  threat  insult  identity_hate  \n",
       "1158   0.000004      0             0        0       0       0              0  \n",
       "5246   0.000009      0             0        0       0       0              0  \n",
       "11040  0.000091      0             0        0       0       0              0  \n",
       "24192  0.000116      0             0        0       0       0              0  \n",
       "2332   0.000131      0             0        0       0       0              0  \n",
       "...         ...    ...           ...      ...     ...     ...            ...  \n",
       "19994  0.997278      1             1        1       0       1              0  \n",
       "28728  0.997736      1             1        1       0       1              0  \n",
       "25535  0.997982      1             1        1       0       1              0  \n",
       "25945  0.998136      1             1        1       0       1              0  \n",
       "17833  0.998329      1             0        1       0       1              0  \n",
       "\n",
       "[41338 rows x 9 columns]"
      ]
     },
     "execution_count": 7,
     "metadata": {},
     "output_type": "execute_result"
    }
   ],
   "source": [
    "df.sort_values(['score'])"
   ]
  },
  {
   "cell_type": "markdown",
   "metadata": {},
   "source": [
    "Sorted values according to toxicity score"
   ]
  },
  {
   "cell_type": "code",
   "execution_count": 13,
   "metadata": {},
   "outputs": [],
   "source": [
    "def get_toxicity_score(comment):\n",
    "  API_KEY = ''\n",
    "  client = build(\n",
    "   \"commentanalyzer\",\n",
    "   \"v1alpha1\",\n",
    "   developerKey=API_KEY,\n",
    "   discoveryServiceUrl=\"https://commentanalyzer.googleapis.com/$discovery/rest?version=v1alpha1\",\n",
    "   static_discovery=False,\n",
    "  )\n",
    "  analyze_request = {\n",
    "  'comment': { 'text': comment },\n",
    "  'requestedAttributes': {'TOXICITY': {}}\n",
    "  }\n",
    "    \n",
    "  response = client.comments().analyze(body=analyze_request).execute()\n",
    "  toxicity_score = response[\"attributeScores\"][\"TOXICITY\"][\"summaryScore\"][\"value\"]\n",
    "    \n",
    "  return toxicity_score"
   ]
  },
  {
   "cell_type": "markdown",
   "metadata": {},
   "source": [
    "Wrote code to return the toxicity score of any comment entered manually"
   ]
  },
  {
   "cell_type": "code",
   "execution_count": 14,
   "metadata": {},
   "outputs": [
    {
     "data": {
      "text/plain": [
       "0.9480856"
      ]
     },
     "execution_count": 14,
     "metadata": {},
     "output_type": "execute_result"
    }
   ],
   "source": [
    "get_toxicity_score(\"cunt\")"
   ]
  },
  {
   "cell_type": "markdown",
   "metadata": {},
   "source": [
    "Got toxicity scores of different comments"
   ]
  },
  {
   "cell_type": "code",
   "execution_count": 15,
   "metadata": {},
   "outputs": [],
   "source": [
    "unique_val = df['score'].mode()"
   ]
  },
  {
   "cell_type": "markdown",
   "metadata": {},
   "source": [
    "Code to get most frequent value in the API dataset"
   ]
  },
  {
   "cell_type": "code",
   "execution_count": 147,
   "metadata": {
    "scrolled": true
   },
   "outputs": [
    {
     "name": "stdout",
     "output_type": "stream",
     "text": [
      "0    0.310894\n",
      "dtype: float64\n"
     ]
    }
   ],
   "source": [
    "print(unique_val)"
   ]
  },
  {
   "cell_type": "code",
   "execution_count": 148,
   "metadata": {},
   "outputs": [],
   "source": [
    "val = df['score'].mean()"
   ]
  },
  {
   "cell_type": "markdown",
   "metadata": {},
   "source": [
    "Code to return the mean value of all comments"
   ]
  },
  {
   "cell_type": "code",
   "execution_count": 149,
   "metadata": {},
   "outputs": [
    {
     "name": "stdout",
     "output_type": "stream",
     "text": [
      "0.2444668346830467\n"
     ]
    }
   ],
   "source": [
    "print(val)"
   ]
  },
  {
   "cell_type": "code",
   "execution_count": 150,
   "metadata": {
    "scrolled": true
   },
   "outputs": [
    {
     "data": {
      "text/plain": [
       "[<matplotlib.lines.Line2D at 0x2076b8c0be0>]"
      ]
     },
     "execution_count": 150,
     "metadata": {},
     "output_type": "execute_result"
    },
    {
     "data": {
      "image/png": "[encoded data removed]",
      "text/plain": [
       "<Figure size 432x288 with 1 Axes>"
      ]
     },
     "metadata": {
      "needs_background": "light"
     },
     "output_type": "display_data"
    }
   ],
   "source": [
    "dfs = df.sort_values(['score'])\n",
    "plt.plot(dfs['score'], dfs['toxic'],'bo')"
   ]
  },
  {
   "cell_type": "markdown",
   "metadata": {},
   "source": [
    "Sorted values according to score, then plotted on a graph to see relationship between score and toxic"
   ]
  },
  {
   "cell_type": "code",
   "execution_count": 151,
   "metadata": {},
   "outputs": [
    {
     "data": {
      "text/plain": [
       "'And we have a winner for the douchiest comment award.'"
      ]
     },
     "execution_count": 151,
     "metadata": {},
     "output_type": "execute_result"
    }
   ],
   "source": [
    "dfs['comment_text'][dfs['toxic'].idxmax()]"
   ]
  },
  {
   "cell_type": "markdown",
   "metadata": {},
   "source": [
    "Code for finding the first comment with toxicity score 1"
   ]
  },
  {
   "cell_type": "code",
   "execution_count": 154,
   "metadata": {},
   "outputs": [
    {
     "data": {
      "text/plain": [
       "1158     False\n",
       "5246     False\n",
       "11040    False\n",
       "24192    False\n",
       "2332     False\n",
       "         ...  \n",
       "19994     True\n",
       "28728     True\n",
       "25535     True\n",
       "25945     True\n",
       "17833     True\n",
       "Name: toxic, Length: 41338, dtype: bool"
      ]
     },
     "execution_count": 154,
     "metadata": {},
     "output_type": "execute_result"
    }
   ],
   "source": [
    "dfs.toxic == 1"
   ]
  },
  {
   "cell_type": "markdown",
   "metadata": {},
   "source": [
    "Sorted data frame for comments with 1 as score for toxic parameter"
   ]
  },
  {
   "cell_type": "code",
   "execution_count": 153,
   "metadata": {
    "scrolled": true
   },
   "outputs": [
    {
     "data": {
      "text/html": [
       "<div>\n",
       "<style scoped>\n",
       "    .dataframe tbody tr th:only-of-type {\n",
       "        vertical-align: middle;\n",
       "    }\n",
       "\n",
       "    .dataframe tbody tr th {\n",
       "        vertical-align: top;\n",
       "    }\n",
       "\n",
       "    .dataframe thead th {\n",
       "        text-align: right;\n",
       "    }\n",
       "</style>\n",
       "<table border=\"1\" class=\"dataframe\">\n",
       "  <thead>\n",
       "    <tr style=\"text-align: right;\">\n",
       "      <th></th>\n",
       "      <th>id</th>\n",
       "      <th>comment_text</th>\n",
       "      <th>score</th>\n",
       "      <th>toxic</th>\n",
       "      <th>severe_toxic</th>\n",
       "      <th>obscene</th>\n",
       "      <th>threat</th>\n",
       "      <th>insult</th>\n",
       "      <th>identity_hate</th>\n",
       "    </tr>\n",
       "  </thead>\n",
       "  <tbody>\n",
       "    <tr>\n",
       "      <th>27263</th>\n",
       "      <td>e0539a647a5ed61d</td>\n",
       "      <td>War CriminalWar CriminalWar CriminalWar Crimin...</td>\n",
       "      <td>0.496129</td>\n",
       "      <td>1</td>\n",
       "      <td>1</td>\n",
       "      <td>0</td>\n",
       "      <td>0</td>\n",
       "      <td>0</td>\n",
       "      <td>0</td>\n",
       "    </tr>\n",
       "    <tr>\n",
       "      <th>33118</th>\n",
       "      <td>c0e076f0011acaa6</td>\n",
       "      <td>\"FFFFF UUUUUU CCCCCC KKKKKK ===== YOU! F UU C ...</td>\n",
       "      <td>0.680817</td>\n",
       "      <td>1</td>\n",
       "      <td>1</td>\n",
       "      <td>1</td>\n",
       "      <td>0</td>\n",
       "      <td>1</td>\n",
       "      <td>0</td>\n",
       "    </tr>\n",
       "    <tr>\n",
       "      <th>28910</th>\n",
       "      <td>d73516d5de7f7384</td>\n",
       "      <td>big&gt;I HATE Nl33ERS\\nI HATE Nl33ERS\\nI HATE Nl3...</td>\n",
       "      <td>0.715894</td>\n",
       "      <td>1</td>\n",
       "      <td>1</td>\n",
       "      <td>1</td>\n",
       "      <td>0</td>\n",
       "      <td>1</td>\n",
       "      <td>1</td>\n",
       "    </tr>\n",
       "    <tr>\n",
       "      <th>17101</th>\n",
       "      <td>41fe17d86e765e7b</td>\n",
       "      <td>WIKI NAZI! \\n\\nThat's all you are, you even re...</td>\n",
       "      <td>0.744944</td>\n",
       "      <td>1</td>\n",
       "      <td>1</td>\n",
       "      <td>0</td>\n",
       "      <td>0</td>\n",
       "      <td>0</td>\n",
       "      <td>0</td>\n",
       "    </tr>\n",
       "    <tr>\n",
       "      <th>25371</th>\n",
       "      <td>eab35a94edfe8946</td>\n",
       "      <td>Remeber rahmatul lil alameen? You Sunni monkey...</td>\n",
       "      <td>0.768935</td>\n",
       "      <td>1</td>\n",
       "      <td>1</td>\n",
       "      <td>0</td>\n",
       "      <td>0</td>\n",
       "      <td>1</td>\n",
       "      <td>1</td>\n",
       "    </tr>\n",
       "    <tr>\n",
       "      <th>...</th>\n",
       "      <td>...</td>\n",
       "      <td>...</td>\n",
       "      <td>...</td>\n",
       "      <td>...</td>\n",
       "      <td>...</td>\n",
       "      <td>...</td>\n",
       "      <td>...</td>\n",
       "      <td>...</td>\n",
       "      <td>...</td>\n",
       "    </tr>\n",
       "    <tr>\n",
       "      <th>6964</th>\n",
       "      <td>e88321c89a619419</td>\n",
       "      <td>Stupid fucking bitch rot in hell piece of shit</td>\n",
       "      <td>0.996872</td>\n",
       "      <td>1</td>\n",
       "      <td>1</td>\n",
       "      <td>1</td>\n",
       "      <td>0</td>\n",
       "      <td>1</td>\n",
       "      <td>0</td>\n",
       "    </tr>\n",
       "    <tr>\n",
       "      <th>19994</th>\n",
       "      <td>1429a2c930688317</td>\n",
       "      <td>you fucking piece of shit</td>\n",
       "      <td>0.997278</td>\n",
       "      <td>1</td>\n",
       "      <td>1</td>\n",
       "      <td>1</td>\n",
       "      <td>0</td>\n",
       "      <td>1</td>\n",
       "      <td>0</td>\n",
       "    </tr>\n",
       "    <tr>\n",
       "      <th>28728</th>\n",
       "      <td>d82e45eb103ad07b</td>\n",
       "      <td>fuck off you stupid aspy asshole</td>\n",
       "      <td>0.997736</td>\n",
       "      <td>1</td>\n",
       "      <td>1</td>\n",
       "      <td>1</td>\n",
       "      <td>0</td>\n",
       "      <td>1</td>\n",
       "      <td>0</td>\n",
       "    </tr>\n",
       "    <tr>\n",
       "      <th>25535</th>\n",
       "      <td>e9b92c6c6b01aeef</td>\n",
       "      <td>FUCK YOU YOU PIECE OF SHIT \\n FUCK YOU YOU PIE...</td>\n",
       "      <td>0.997982</td>\n",
       "      <td>1</td>\n",
       "      <td>1</td>\n",
       "      <td>1</td>\n",
       "      <td>0</td>\n",
       "      <td>1</td>\n",
       "      <td>0</td>\n",
       "    </tr>\n",
       "    <tr>\n",
       "      <th>25945</th>\n",
       "      <td>e783fd267f3a9d3b</td>\n",
       "      <td>FUCK WIKIPEDIA ON WHEELS! \\n\\nFuck off wikiped...</td>\n",
       "      <td>0.998136</td>\n",
       "      <td>1</td>\n",
       "      <td>1</td>\n",
       "      <td>1</td>\n",
       "      <td>0</td>\n",
       "      <td>1</td>\n",
       "      <td>0</td>\n",
       "    </tr>\n",
       "  </tbody>\n",
       "</table>\n",
       "<p>379 rows × 9 columns</p>\n",
       "</div>"
      ],
      "text/plain": [
       "                     id                                       comment_text  \\\n",
       "27263  e0539a647a5ed61d  War CriminalWar CriminalWar CriminalWar Crimin...   \n",
       "33118  c0e076f0011acaa6  \"FFFFF UUUUUU CCCCCC KKKKKK ===== YOU! F UU C ...   \n",
       "28910  d73516d5de7f7384  big>I HATE Nl33ERS\\nI HATE Nl33ERS\\nI HATE Nl3...   \n",
       "17101  41fe17d86e765e7b  WIKI NAZI! \\n\\nThat's all you are, you even re...   \n",
       "25371  eab35a94edfe8946  Remeber rahmatul lil alameen? You Sunni monkey...   \n",
       "...                 ...                                                ...   \n",
       "6964   e88321c89a619419     Stupid fucking bitch rot in hell piece of shit   \n",
       "19994  1429a2c930688317                          you fucking piece of shit   \n",
       "28728  d82e45eb103ad07b                   fuck off you stupid aspy asshole   \n",
       "25535  e9b92c6c6b01aeef  FUCK YOU YOU PIECE OF SHIT \\n FUCK YOU YOU PIE...   \n",
       "25945  e783fd267f3a9d3b  FUCK WIKIPEDIA ON WHEELS! \\n\\nFuck off wikiped...   \n",
       "\n",
       "          score  toxic  severe_toxic  obscene  threat  insult  identity_hate  \n",
       "27263  0.496129      1             1        0       0       0              0  \n",
       "33118  0.680817      1             1        1       0       1              0  \n",
       "28910  0.715894      1             1        1       0       1              1  \n",
       "17101  0.744944      1             1        0       0       0              0  \n",
       "25371  0.768935      1             1        0       0       1              1  \n",
       "...         ...    ...           ...      ...     ...     ...            ...  \n",
       "6964   0.996872      1             1        1       0       1              0  \n",
       "19994  0.997278      1             1        1       0       1              0  \n",
       "28728  0.997736      1             1        1       0       1              0  \n",
       "25535  0.997982      1             1        1       0       1              0  \n",
       "25945  0.998136      1             1        1       0       1              0  \n",
       "\n",
       "[379 rows x 9 columns]"
      ]
     },
     "execution_count": 153,
     "metadata": {},
     "output_type": "execute_result"
    }
   ],
   "source": [
    "dfs[np.logical_and(dfs.toxic == 1, dfs.severe_toxic == 1)]"
   ]
  },
  {
   "cell_type": "markdown",
   "metadata": {},
   "source": [
    "sorted data frame for all comments with toxicity and severe toxicity parameters = 1"
   ]
  },
  {
   "cell_type": "code",
   "execution_count": 155,
   "metadata": {
    "scrolled": true
   },
   "outputs": [
    {
     "data": {
      "text/html": [
       "<div>\n",
       "<style scoped>\n",
       "    .dataframe tbody tr th:only-of-type {\n",
       "        vertical-align: middle;\n",
       "    }\n",
       "\n",
       "    .dataframe tbody tr th {\n",
       "        vertical-align: top;\n",
       "    }\n",
       "\n",
       "    .dataframe thead th {\n",
       "        text-align: right;\n",
       "    }\n",
       "</style>\n",
       "<table border=\"1\" class=\"dataframe\">\n",
       "  <thead>\n",
       "    <tr style=\"text-align: right;\">\n",
       "      <th></th>\n",
       "      <th>score</th>\n",
       "      <th>toxic</th>\n",
       "      <th>severe_toxic</th>\n",
       "      <th>obscene</th>\n",
       "      <th>threat</th>\n",
       "      <th>insult</th>\n",
       "      <th>identity_hate</th>\n",
       "    </tr>\n",
       "  </thead>\n",
       "  <tbody>\n",
       "    <tr>\n",
       "      <th>score</th>\n",
       "      <td>1.000000</td>\n",
       "      <td>0.743818</td>\n",
       "      <td>0.269247</td>\n",
       "      <td>0.617662</td>\n",
       "      <td>0.139869</td>\n",
       "      <td>0.590391</td>\n",
       "      <td>0.252640</td>\n",
       "    </tr>\n",
       "    <tr>\n",
       "      <th>toxic</th>\n",
       "      <td>0.743818</td>\n",
       "      <td>1.000000</td>\n",
       "      <td>0.296236</td>\n",
       "      <td>0.680411</td>\n",
       "      <td>0.157603</td>\n",
       "      <td>0.653602</td>\n",
       "      <td>0.284198</td>\n",
       "    </tr>\n",
       "    <tr>\n",
       "      <th>severe_toxic</th>\n",
       "      <td>0.269247</td>\n",
       "      <td>0.296236</td>\n",
       "      <td>1.000000</td>\n",
       "      <td>0.384894</td>\n",
       "      <td>0.119512</td>\n",
       "      <td>0.360643</td>\n",
       "      <td>0.230999</td>\n",
       "    </tr>\n",
       "    <tr>\n",
       "      <th>obscene</th>\n",
       "      <td>0.617662</td>\n",
       "      <td>0.680411</td>\n",
       "      <td>0.384894</td>\n",
       "      <td>1.000000</td>\n",
       "      <td>0.140290</td>\n",
       "      <td>0.737114</td>\n",
       "      <td>0.296596</td>\n",
       "    </tr>\n",
       "    <tr>\n",
       "      <th>threat</th>\n",
       "      <td>0.139869</td>\n",
       "      <td>0.157603</td>\n",
       "      <td>0.119512</td>\n",
       "      <td>0.140290</td>\n",
       "      <td>1.000000</td>\n",
       "      <td>0.151432</td>\n",
       "      <td>0.106783</td>\n",
       "    </tr>\n",
       "    <tr>\n",
       "      <th>insult</th>\n",
       "      <td>0.590391</td>\n",
       "      <td>0.653602</td>\n",
       "      <td>0.360643</td>\n",
       "      <td>0.737114</td>\n",
       "      <td>0.151432</td>\n",
       "      <td>1.000000</td>\n",
       "      <td>0.365971</td>\n",
       "    </tr>\n",
       "    <tr>\n",
       "      <th>identity_hate</th>\n",
       "      <td>0.252640</td>\n",
       "      <td>0.284198</td>\n",
       "      <td>0.230999</td>\n",
       "      <td>0.296596</td>\n",
       "      <td>0.106783</td>\n",
       "      <td>0.365971</td>\n",
       "      <td>1.000000</td>\n",
       "    </tr>\n",
       "  </tbody>\n",
       "</table>\n",
       "</div>"
      ],
      "text/plain": [
       "                  score     toxic  severe_toxic   obscene    threat    insult  \\\n",
       "score          1.000000  0.743818      0.269247  0.617662  0.139869  0.590391   \n",
       "toxic          0.743818  1.000000      0.296236  0.680411  0.157603  0.653602   \n",
       "severe_toxic   0.269247  0.296236      1.000000  0.384894  0.119512  0.360643   \n",
       "obscene        0.617662  0.680411      0.384894  1.000000  0.140290  0.737114   \n",
       "threat         0.139869  0.157603      0.119512  0.140290  1.000000  0.151432   \n",
       "insult         0.590391  0.653602      0.360643  0.737114  0.151432  1.000000   \n",
       "identity_hate  0.252640  0.284198      0.230999  0.296596  0.106783  0.365971   \n",
       "\n",
       "               identity_hate  \n",
       "score               0.252640  \n",
       "toxic               0.284198  \n",
       "severe_toxic        0.230999  \n",
       "obscene             0.296596  \n",
       "threat              0.106783  \n",
       "insult              0.365971  \n",
       "identity_hate       1.000000  "
      ]
     },
     "execution_count": 155,
     "metadata": {},
     "output_type": "execute_result"
    }
   ],
   "source": [
    "dfs.corr('pearson')"
   ]
  },
  {
   "cell_type": "markdown",
   "metadata": {},
   "source": [
    "Foud correlation between all scores and parameters"
   ]
  },
  {
   "cell_type": "code",
   "execution_count": 156,
   "metadata": {},
   "outputs": [
    {
     "data": {
      "text/plain": [
       "41338"
      ]
     },
     "execution_count": 156,
     "metadata": {},
     "output_type": "execute_result"
    }
   ],
   "source": [
    "dfs['comment_text'].count()"
   ]
  },
  {
   "cell_type": "markdown",
   "metadata": {},
   "source": [
    "Found number of all comments in the data frame"
   ]
  },
  {
   "cell_type": "code",
   "execution_count": 157,
   "metadata": {},
   "outputs": [],
   "source": [
    "strlen = np.array([len(x) for x in dfs['comment_text']]).reshape(-1, 1)\n",
    "score = dfs['score']"
   ]
  },
  {
   "cell_type": "markdown",
   "metadata": {},
   "source": [
    "Sorted all comments according to length and converted into an array"
   ]
  },
  {
   "cell_type": "code",
   "execution_count": 158,
   "metadata": {},
   "outputs": [],
   "source": [
    "from sklearn.linear_model import LinearRegression\n",
    "reg = LinearRegression().fit(strlen, score)"
   ]
  },
  {
   "cell_type": "markdown",
   "metadata": {},
   "source": [
    "Ran linear regression between comment length as explanatory and score as response variable"
   ]
  },
  {
   "cell_type": "code",
   "execution_count": 159,
   "metadata": {},
   "outputs": [
    {
     "data": {
      "text/plain": [
       "[<matplotlib.lines.Line2D at 0x2076bb106a0>]"
      ]
     },
     "execution_count": 159,
     "metadata": {},
     "output_type": "execute_result"
    },
    {
     "data": {
      "image/png": "[encoded data removed]",
      "text/plain": [
       "<Figure size 432x288 with 1 Axes>"
      ]
     },
     "metadata": {
      "needs_background": "light"
     },
     "output_type": "display_data"
    }
   ],
   "source": [
    "plt.plot(strlen, score, 'bo')\n",
    "plt.plot(strlen, reg.predict(strlen),'r-')"
   ]
  },
  {
   "cell_type": "markdown",
   "metadata": {},
   "source": [
    "Plotted linear regression with all data points "
   ]
  },
  {
   "cell_type": "code",
   "execution_count": 160,
   "metadata": {},
   "outputs": [
    {
     "data": {
      "text/plain": [
       "[<matplotlib.lines.Line2D at 0x2076bb6b700>]"
      ]
     },
     "execution_count": 160,
     "metadata": {},
     "output_type": "execute_result"
    },
    {
     "data": {
      "image/png": "[encoded data removed]",
      "text/plain": [
       "<Figure size 432x288 with 1 Axes>"
      ]
     },
     "metadata": {
      "needs_background": "light"
     },
     "output_type": "display_data"
    }
   ],
   "source": [
    "dummyX = np.array([1,2,3]).reshape(-1, 1)\n",
    "dummyY = [3,2,1]\n",
    "reg = LinearRegression().fit(dummyX, dummyY)\n",
    "plt.plot(dummyX, dummyY, 'bo')\n",
    "plt.plot(dummyX, reg.predict(dummyX),'r-')"
   ]
  },
  {
   "cell_type": "markdown",
   "metadata": {},
   "source": [
    "created and plotted dummy variable in order to verify relationship and confirm/ deny hypothesis"
   ]
  },
  {
   "cell_type": "markdown",
   "metadata": {},
   "source": []
  },
  {
   "cell_type": "code",
   "execution_count": null,
   "metadata": {},
   "outputs": [],
   "source": []
  }
 ],
 "metadata": {
  "kernelspec": {
   "display_name": "Python 3",
   "language": "python",
   "name": "python3"
  },
  "language_info": {
   "codemirror_mode": {
    "name": "ipython",
    "version": 3
   },
   "file_extension": ".py",
   "mimetype": "text/x-python",
   "name": "python",
   "nbconvert_exporter": "python",
   "pygments_lexer": "ipython3",
   "version": "3.8.5"
  }
 },
 "nbformat": 4,
 "nbformat_minor": 4
}
